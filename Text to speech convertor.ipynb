{
 "cells": [
  {
   "cell_type": "code",
   "execution_count": 1,
   "metadata": {},
   "outputs": [],
   "source": [
    "import tkinter as tk\n",
    "from tkinter import *\n",
    "from tkinter import filedialog\n",
    "from tkinter.ttk import Combobox\n",
    "import pyttsx3\n",
    "import os\n",
    "from gtts import gTTS\n",
    "from playsound import playsound"
   ]
  },
  {
   "cell_type": "code",
   "execution_count": 2,
   "metadata": {},
   "outputs": [],
   "source": [
    "root = Tk()\n",
    "root.title(\"Text to Speech Convertor\")\n",
    "root.geometry(\"1000x680+200+80\")\n",
    "root.resizable(False,False)\n",
    "root.configure(bg = \"#F7AC40\")\n",
    "#root.mainloop()"
   ]
  },
  {
   "cell_type": "code",
   "execution_count": 3,
   "metadata": {},
   "outputs": [],
   "source": [
    "tts = pyttsx3.init()\n",
    "def speaknow():\n",
    "    text = text_box.get(1.0, END)\n",
    "    gender = gender_box.get()\n",
    "    speed = speed_box.get()\n",
    "    voices = tts.getProperty(\"voices\")\n",
    "    def setvoice():\n",
    "        if(gender == 'Male'):\n",
    "            tts.setProperty('voice', voices[0].id)\n",
    "            tts.say(text)\n",
    "            tts.runAndWait()\n",
    "        else:\n",
    "            tts.setProperty('voice', voices[1].id)\n",
    "            tts.say(text)\n",
    "            tts.runAndWait()\n",
    "    if(text):\n",
    "        if(speed == 'Fast'):\n",
    "            tts.setProperty('rate',250)\n",
    "            setvoice()\n",
    "        elif(speed == 'Medium'):\n",
    "            tts.setProperty('rate',150)\n",
    "            setvoice()\n",
    "        else:\n",
    "            tts.setProperty('rate',60)\n",
    "            setvoice()\n",
    "        "
   ]
  },
  {
   "cell_type": "code",
   "execution_count": 4,
   "metadata": {},
   "outputs": [],
   "source": [
    "upper_frame = Frame(root, bg = \"#14A7DD\",width = 1200, height = 170)\n",
    "upper_frame.place(x = 0, y = 0)\n",
    "picture = PhotoImage(file = \"7276123.png\")\n",
    "Label(upper_frame,image = picture, bg = \"#14A7DD\").place(x = 150, y=20)\n",
    "\n",
    "#root.mainloop()"
   ]
  },
  {
   "cell_type": "code",
   "execution_count": 5,
   "metadata": {},
   "outputs": [],
   "source": [
    "Label(upper_frame, text = \"Text to Speech Convertor\", font = \"TimesNewRoman 40 bold\", bg = \"#14A7DD\", fg = \"white\").place(x=320, y=55)"
   ]
  },
  {
   "cell_type": "code",
   "execution_count": 6,
   "metadata": {},
   "outputs": [],
   "source": [
    "text_box = Text(root, font = \"calibri 20\", bg = \"white\", relief = GROOVE, wrap = WORD, bd=0)\n",
    "text_box.place(x=30, y= 200, width = 940, height = 180)\n"
   ]
  },
  {
   "cell_type": "code",
   "execution_count": 7,
   "metadata": {},
   "outputs": [],
   "source": [
    "gender_box = Combobox(root, values = ['Male','Female'], font = \"Robote 12\", state = \"r\",width = 12)\n",
    "gender_box.place(x = 340, y = 500)\n",
    "gender_box.set('Male')\n"
   ]
  },
  {
   "cell_type": "code",
   "execution_count": 8,
   "metadata": {},
   "outputs": [],
   "source": [
    "speed_box = Combobox(root, values = ['Fast','Medium','Slow'], font = \"Robote 12\", state = \"r\",width = 12)\n",
    "speed_box.place(x = 540, y = 500)\n",
    "speed_box.set('Medium')"
   ]
  },
  {
   "cell_type": "code",
   "execution_count": 9,
   "metadata": {},
   "outputs": [],
   "source": [
    "Label(root, text = \"Select Voice\", font = \"TimesNewRoman 15 bold\", bg = \"#F7AC40\",fg = \"White\").place(x=340,y=470)\n",
    "Label(root, text = \"Select Speed\", font = \"TimesNewRoman 15 bold\", bg = \"#F7AC40\",fg = \"White\").place(x=540,y=470)"
   ]
  },
  {
   "cell_type": "code",
   "execution_count": 10,
   "metadata": {},
   "outputs": [],
   "source": [
    "#play_button = PhotoImage(file = \"play.png\")\n",
    "play_btn = Button(root, text = \"Play\", compound = LEFT,bg = 'white', width = 10,font = 'arial 14 bold', borderwidth = '0.1c',command = speaknow)\n",
    "play_btn.place(x=435, y=550)\n",
    "root.mainloop()"
   ]
  },
  {
   "cell_type": "code",
   "execution_count": null,
   "metadata": {
    "scrolled": true
   },
   "outputs": [],
   "source": []
  },
  {
   "cell_type": "code",
   "execution_count": null,
   "metadata": {},
   "outputs": [],
   "source": []
  }
 ],
 "metadata": {
  "kernelspec": {
   "display_name": "Python 3",
   "language": "python",
   "name": "python3"
  },
  "language_info": {
   "codemirror_mode": {
    "name": "ipython",
    "version": 3
   },
   "file_extension": ".py",
   "mimetype": "text/x-python",
   "name": "python",
   "nbconvert_exporter": "python",
   "pygments_lexer": "ipython3",
   "version": "3.8.5"
  }
 },
 "nbformat": 4,
 "nbformat_minor": 4
}
